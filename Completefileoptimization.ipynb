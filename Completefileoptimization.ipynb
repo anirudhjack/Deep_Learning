{
  "nbformat": 4,
  "nbformat_minor": 0,
  "metadata": {
    "colab": {
      "name": "Untitled12.ipynb",
      "version": "0.3.2",
      "provenance": []
    },
    "kernelspec": {
      "name": "python3",
      "display_name": "Python 3"
    }
  },
  "cells": [
    {
      "metadata": {
        "id": "0QOk6KY9iSHm",
        "colab_type": "code",
        "colab": {}
      },
      "cell_type": "code",
      "source": [
        "import xlrd\n",
        "import csv\n",
        "import numpy as np"
      ],
      "execution_count": 0,
      "outputs": []
    },
    {
      "metadata": {
        "id": "NUf5YokXi13V",
        "colab_type": "code",
        "outputId": "8814f43b-8e64-4d03-bcde-872b36772352",
        "colab": {
          "resources": {
            "http://localhost:8080/nbextensions/google.colab/files.js": {
              "data": "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",
              "ok": true,
              "headers": [
                [
                  "content-type",
                  "application/javascript"
                ]
              ],
              "status": 200,
              "status_text": ""
            }
          },
          "base_uri": "https://localhost:8080/",
          "height": 75
        }
      },
      "cell_type": "code",
      "source": [
        "from google.colab import files\n",
        "\n",
        "uploaded = files.upload()\n"
      ],
      "execution_count": 1,
      "outputs": [
        {
          "output_type": "display_data",
          "data": {
            "text/html": [
              "\n",
              "     <input type=\"file\" id=\"files-b8e95967-a333-4288-843f-9422bb676325\" name=\"files[]\" multiple disabled />\n",
              "     <output id=\"result-b8e95967-a333-4288-843f-9422bb676325\">\n",
              "      Upload widget is only available when the cell has been executed in the\n",
              "      current browser session. Please rerun this cell to enable.\n",
              "      </output>\n",
              "      <script src=\"/nbextensions/google.colab/files.js\"></script> "
            ],
            "text/plain": [
              "<IPython.core.display.HTML object>"
            ]
          },
          "metadata": {
            "tags": []
          }
        },
        {
          "output_type": "stream",
          "text": [
            "Saving csv_result-caesarian.csv to csv_result-caesarian.csv\n"
          ],
          "name": "stdout"
        }
      ]
    },
    {
      "metadata": {
        "id": "VhgggXsLrdNV",
        "colab_type": "code",
        "colab": {}
      },
      "cell_type": "code",
      "source": [
        "X_train=list()\n",
        "Y_train=list()\n",
        "i=0\n",
        "with open('csv_result-caesarian.csv') as csvfile: \n",
        "    mpg_data = csv.reader(csvfile)\n",
        "    for line in mpg_data:\n",
        "      if i<2:\n",
        "        i+=1\n",
        "      else:\n",
        "        line[1]=float(line[1])\n",
        "        line[1]=(line[1]-18)/(float(22))\n",
        "        X_train.append(list(map(float, line[1:6])))\n",
        "        Y_train.append(int(line[6]))\n",
        " \n"
      ],
      "execution_count": 0,
      "outputs": []
    },
    {
      "metadata": {
        "id": "ZfyOcT3z5a4j",
        "colab_type": "code",
        "colab": {}
      },
      "cell_type": "code",
      "source": [
        "weight1=np.random.rand(10,5)\n",
        "weight2=np.random.rand(1,10)\n",
        "np.random.seed(2)\n"
      ],
      "execution_count": 0,
      "outputs": []
    },
    {
      "metadata": {
        "id": "J4i68NRt6mRE",
        "colab_type": "code",
        "colab": {}
      },
      "cell_type": "code",
      "source": [
        "def sigmoid(num):\n",
        "  return 1/(1+np.exp(-num))"
      ],
      "execution_count": 0,
      "outputs": []
    },
    {
      "metadata": {
        "id": "rphur37h6dIF",
        "colab_type": "code",
        "colab": {}
      },
      "cell_type": "code",
      "source": [
        "def Forward_propagate(Input):\n",
        "  Input=np.matrix(Input)\n",
        "  preoutput=sigmoid(np.matmul(weight1,np.transpose(Input)))\n",
        "  output=sigmoid(np.matmul(weight2,(preoutput)))\n",
        "  return (preoutput,output)\n"
      ],
      "execution_count": 0,
      "outputs": []
    },
    {
      "metadata": {
        "id": "Aq71mZwK8sfD",
        "colab_type": "code",
        "colab": {}
      },
      "cell_type": "code",
      "source": [
        "def backpropagation(Input,target):\n",
        "  (preoutput,output)=Forward_propagate(Input)\n",
        "  delta=list()\n",
        "  delta.append(-(target-output[0,0])*output[0,0]*(1-output[0,0]))\n",
        "  delta=np.matrix(delta)\n",
        "  preoutput=np.matrix(preoutput)\n",
        "  error_weight2=np.matmul(delta,preoutput.T)\n",
        "  \n",
        "  delta_weight2=np.transpose(weight2)\n",
        "  delta_weight2=np.matrix(weight2)\n",
        "  delta_preoutput=list()\n",
        "  for i in range(np.shape(preoutput[0])[1]):\n",
        "    delta_preoutput.append(preoutput[0,i]*(1-preoutput[0,i]))\n",
        "  \n",
        "  delta_weight2[0]=np.multiply(delta_weight2[0],delta_preoutput)\n",
        "  \n",
        "  delta_weight2=np.transpose(delta_weight2)\n",
        "  Input=np.matrix(Input)\n",
        "  Input=np.transpose(Input)\n",
        "  \n",
        "  s=np.matmul(delta_weight2,delta)\n",
        "  error_weight1=np.matmul(s,np.transpose(Input))\n",
        "  return (error_weight2,error_weight1)\n",
        "  "
      ],
      "execution_count": 0,
      "outputs": []
    },
    {
      "metadata": {
        "id": "riVwDmaRRoT0",
        "colab_type": "text"
      },
      "cell_type": "markdown",
      "source": [
        "Stocastic Gradient Descent method"
      ]
    },
    {
      "metadata": {
        "id": "RVDp-Kta9trr",
        "colab_type": "code",
        "colab": {}
      },
      "cell_type": "code",
      "source": [
        "learning_rate=0.01\n",
        "for i in range(2000):\n",
        "  for j in range(len(X_train)): \n",
        "    (t,r)=backpropagation(X_train[j],Y_train[j])\n",
        "    weight1=weight1-learning_rate*r\n",
        "    weight2=weight2-learning_rate*t\n",
        "  error=0.0\n",
        "  for j in range(len(X_train)):\n",
        "    (o,r)=Forward_propagate(X_train[j])\n",
        "    error+=(Y_train[j]-r[0,0])*(Y_train[j]-r[0,0])/2\n",
        "  print(error)"
      ],
      "execution_count": 0,
      "outputs": []
    },
    {
      "metadata": {
        "id": "aUfWPvIpR5eL",
        "colab_type": "text"
      },
      "cell_type": "markdown",
      "source": [
        "Momentum method"
      ]
    },
    {
      "metadata": {
        "id": "fU8K9y1Z7f_S",
        "colab_type": "code",
        "colab": {}
      },
      "cell_type": "code",
      "source": [
        "weight1=np.random.rand(10,5)\n",
        "weight2=np.random.rand(1,10)\n",
        "np.random.seed(2)"
      ],
      "execution_count": 0,
      "outputs": []
    },
    {
      "metadata": {
        "id": "p7Erkx3PR8VD",
        "colab_type": "code",
        "colab": {}
      },
      "cell_type": "code",
      "source": [
        "learning_rate=0.01\n",
        "alpha=0.01\n",
        "v00=0\n",
        "v01=0\n",
        "for i in range(2000):\n",
        "  for j in range(len(X_train)): \n",
        "    (t,r)=backpropagation(X_train[j],Y_train[j])\n",
        "    p=alpha*v00-learning_rate*r\n",
        "    q=alpha*v01-learning_rate*t\n",
        "    weight1=weight1+p\n",
        "    weight2=weight2+q\n",
        "    v00=p\n",
        "    v01=q\n",
        "  error=0.0\n",
        "  for j in range(len(X_train)):\n",
        "    (o,r)=Forward_propagate(X_train[j])\n",
        "    error+=(Y_train[j]-r[0,0])*(Y_train[j]-r[0,0])/2\n",
        "  print(error)"
      ],
      "execution_count": 0,
      "outputs": []
    },
    {
      "metadata": {
        "id": "muj3Ol4x1-u6",
        "colab_type": "text"
      },
      "cell_type": "markdown",
      "source": [
        "Nestorov Momentum"
      ]
    },
    {
      "metadata": {
        "id": "pUb6xHIM7m7X",
        "colab_type": "code",
        "colab": {}
      },
      "cell_type": "code",
      "source": [
        "weight1=np.random.rand(10,5)\n",
        "weight2=np.random.rand(1,10)\n",
        "np.random.seed(2)"
      ],
      "execution_count": 0,
      "outputs": []
    },
    {
      "metadata": {
        "id": "h6lxEGQc16DZ",
        "colab_type": "code",
        "colab": {}
      },
      "cell_type": "code",
      "source": [
        "learning_rate=0.01\n",
        "alpha=0.0000001\n",
        "v00=0\n",
        "v01=0\n",
        "for i in range(2000):\n",
        "  for j in range(len(X_train)): \n",
        "    (t,r)=backpropagation(X_train[j],Y_train[j])\n",
        "    p=alpha*v00-learning_rate*r\n",
        "    q=alpha*v01-learning_rate*t\n",
        "    weight1=weight1+p\n",
        "    weight2=weight2+q\n",
        "    v00=p\n",
        "    v01=q\n",
        "    weight1=weight1-alpha*p\n",
        "    weight2=weight2-alpha*q\n",
        "  error=0.0\n",
        "  for j in range(len(X_train)):\n",
        "    (o,r)=Forward_propagate(X_train[j])\n",
        "    error+=(Y_train[j]-r[0,0])*(Y_train[j]-r[0,0])/2\n",
        "  print(error)"
      ],
      "execution_count": 0,
      "outputs": []
    },
    {
      "metadata": {
        "id": "ihRnzNPbiPOv",
        "colab_type": "text"
      },
      "cell_type": "markdown",
      "source": [
        "AdaGrad"
      ]
    },
    {
      "metadata": {
        "id": "8jNNuv-47ruE",
        "colab_type": "code",
        "colab": {}
      },
      "cell_type": "code",
      "source": [
        "weight1=np.random.rand(10,5)\n",
        "weight2=np.random.rand(1,10)\n",
        "np.random.seed(2)\n"
      ],
      "execution_count": 0,
      "outputs": []
    },
    {
      "metadata": {
        "id": "3vRUnQjbjprb",
        "colab_type": "code",
        "colab": {}
      },
      "cell_type": "code",
      "source": [
        "def elementwisemultiplication(sq,t,learning_rate):\n",
        "  delta=0.01\n",
        "  denom=delta+np.sqrt(sq)\n",
        "  numer=-learning_rate*(1/denom)\n",
        "  ans=np.multiply(numer,t)\n",
        "  return ans\n"
      ],
      "execution_count": 0,
      "outputs": []
    },
    {
      "metadata": {
        "id": "I2hINVrwiUeA",
        "colab_type": "code",
        "colab": {}
      },
      "cell_type": "code",
      "source": [
        "learning_rate=0.01\n",
        "v00=0\n",
        "v01=0\n",
        "for i in range(2000):\n",
        "  for j in range(len(X_train)): \n",
        "    (t,r)=backpropagation(X_train[j],Y_train[j])\n",
        "    d=v00+np.multiply(t,t)\n",
        "    c=v01+np.multiply(r,r)\n",
        "    p=elementwisemultiplication(d,t,learning_rate)\n",
        "    q=elementwisemultiplication(c,r,learning_rate)\n",
        "    weight1=weight1+q\n",
        "    weight2=weight2+p\n",
        "    v00=d\n",
        "    v01=c\n",
        "  error=0.0\n",
        "  for j in range(len(X_train)):\n",
        "    (o,r)=Forward_propagate(X_train[j])\n",
        "    error+=(Y_train[j]-r[0,0])*(Y_train[j]-r[0,0])/2\n",
        "  print(error)"
      ],
      "execution_count": 0,
      "outputs": []
    },
    {
      "metadata": {
        "id": "iBKhw_TkzXry",
        "colab_type": "text"
      },
      "cell_type": "markdown",
      "source": [
        "RMS prop"
      ]
    },
    {
      "metadata": {
        "id": "2iYir3AT7tNT",
        "colab_type": "code",
        "colab": {}
      },
      "cell_type": "code",
      "source": [
        "weight1=np.random.rand(10,5)\n",
        "weight2=np.random.rand(1,10)\n",
        "np.random.seed(2)"
      ],
      "execution_count": 0,
      "outputs": []
    },
    {
      "metadata": {
        "id": "BqaVdlGEcyV3",
        "colab_type": "code",
        "colab": {}
      },
      "cell_type": "code",
      "source": [
        "def elementwisemultiplication1(sq,t,learning_rate):\n",
        "  delta=0.000001\n",
        "  denom=np.sqrt(delta+(sq))\n",
        "  numer=-learning_rate*(1/denom)\n",
        "  ans=np.multiply(numer,t)\n",
        "  return ans"
      ],
      "execution_count": 0,
      "outputs": []
    },
    {
      "metadata": {
        "id": "0LkQmlLczhPy",
        "colab_type": "code",
        "colab": {}
      },
      "cell_type": "code",
      "source": [
        "hyp_parameter=0.999\n",
        "learning_rate=0.01\n",
        "v00=0\n",
        "v01=0\n",
        "for i in range(2000):\n",
        "  for j in range(len(X_train)): \n",
        "    (t,r)=backpropagation(X_train[j],Y_train[j])\n",
        "    d=v00+(1-hyp_parameter)*np.multiply(t,t)\n",
        "    c=v01+(1-hyp_parameter)*np.multiply(r,r)\n",
        "    p=elementwisemultiplication1(d,t,learning_rate)\n",
        "    q=elementwisemultiplication1(c,r,learning_rate)\n",
        "    weight1=weight1+q\n",
        "    weight2=weight2+p\n",
        "    v00=hyp_parameter*d\n",
        "    v01=hyp_parameter*c\n",
        "  error=0.0\n",
        "  for j in range(len(X_train)):\n",
        "    (o,r)=Forward_propagate(X_train[j])\n",
        "    error+=(Y_train[j]-r[0,0])*(Y_train[j]-r[0,0])/2\n",
        "  print(error)"
      ],
      "execution_count": 0,
      "outputs": []
    },
    {
      "metadata": {
        "id": "37osK_pik0CJ",
        "colab_type": "text"
      },
      "cell_type": "markdown",
      "source": [
        "Adam"
      ]
    },
    {
      "metadata": {
        "id": "IOGlnb0R7vFL",
        "colab_type": "code",
        "colab": {}
      },
      "cell_type": "code",
      "source": [
        "weight1=np.random.rand(10,5)\n",
        "weight2=np.random.rand(1,10)\n",
        "np.random.seed(2)"
      ],
      "execution_count": 0,
      "outputs": []
    },
    {
      "metadata": {
        "id": "t8Y8BwlbkhOZ",
        "colab_type": "code",
        "colab": {}
      },
      "cell_type": "code",
      "source": [
        "beta2=0.999\n",
        "beta1=0.9\n",
        "learning_rate=0.001\n",
        "v00=0\n",
        "v01=0\n",
        "m00=0\n",
        "m01=0\n",
        "for i in range(2000):\n",
        "  for j in range(len(X_train)): \n",
        "    (t,r)=backpropagation(X_train[j],Y_train[j])\n",
        "    d=v00+(1-beta2)*np.multiply(t,t)\n",
        "    c=v01+(1-beta2)*np.multiply(r,r)\n",
        "    m00=beta1*m00+(1-beta1)*t\n",
        "    m01=beta1*m01+(1-beta1)*r\n",
        "    p=elementwisemultiplication(d,m00,learning_rate)\n",
        "    q=elementwisemultiplication(c,m01,learning_rate)\n",
        "    weight1=weight1+q\n",
        "    weight2=weight2+p\n",
        "    v00=beta2*d\n",
        "    v01=beta2*c\n",
        "  error=0.0\n",
        "  for j in range(len(X_train)):\n",
        "    (o,r)=Forward_propagate(X_train[j])\n",
        "    error+=(Y_train[j]-r[0,0])*(Y_train[j]-r[0,0])/2\n",
        "  print(error)"
      ],
      "execution_count": 0,
      "outputs": []
    }
  ]
}